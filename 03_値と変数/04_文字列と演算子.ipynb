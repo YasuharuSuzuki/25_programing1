{
 "cells": [
  {
   "cell_type": "markdown",
   "metadata": {
    "colab_type": "text",
    "id": "view-in-github"
   },
   "source": [
    "<a href=\"https://colab.research.google.com/github/YasuharuSuzuki/25_programing1/blob/main/\" target=\"_parent\"><img src=\"https://colab.research.google.com/assets/colab-badge.svg\" alt=\"Open In Colab\"/></a>"
   ]
  },
  {
   "cell_type": "markdown",
   "metadata": {},
   "source": [
    "# Section3-4 文字列と演算子"
   ]
  },
  {
   "cell_type": "markdown",
   "metadata": {},
   "source": [
    "## 参考サイト\n",
    "### [参考サイト1【Python入門】2-1. 文字列 (string)](https://utokyo-ipp.github.io/2/2-1.html)\n",
    "### [参考サイト2【Python早見表】8. 文字列](https://chokkan.github.io/python/08str.html)"
   ]
  },
  {
   "cell_type": "markdown",
   "metadata": {},
   "source": [
    "## サンプルプログラム5　文字列の作り方\n",
    "- Pythonでの文字列は、文字の並びをシングルクォート '...'、もしくはダブルクォート \"...\" で囲んで記述します。\n",
    "#### 文字列の例"
   ]
  },
  {
   "cell_type": "code",
   "execution_count": null,
   "metadata": {},
   "outputs": [],
   "source": [
    "dagashi1 = \"ヤッチャンタコ(21円)\"\n",
    "dagashi2 = \"チロルリング(5円)\"\n",
    "dagashi3 = \"スーパーキャンディ(110円)\"\n",
    "print(dagashi1, dagashi2, dagashi3)"
   ]
  },
  {
   "cell_type": "markdown",
   "metadata": {},
   "source": [
    "#### ダブルクォートを含んだ文字列\n",
    "- ダブルクォート \"...\" を文字列中に使いたいときは、文字列のをシングルクォート '...' で囲んで記述するとそのまま使用できます。"
   ]
  },
  {
   "cell_type": "code",
   "execution_count": null,
   "metadata": {},
   "outputs": [],
   "source": [
    "dagashi1 = 'ヤッチャンタコ\"21円\"'\n",
    "print(dagashi1)"
   ]
  },
  {
   "cell_type": "markdown",
   "metadata": {},
   "source": [
    "#### シングルクォートを含んだ文字列\n",
    "- 反対にシングルクォート '...'を文字列中に使いたいときはダブルクォート \"...\" で文字列を宣言すると使用できます。"
   ]
  },
  {
   "cell_type": "code",
   "execution_count": null,
   "metadata": {},
   "outputs": [],
   "source": [
    "dagashi2 = \"チロルリング'5円'\"\n",
    "print(dagashi2)"
   ]
  },
  {
   "cell_type": "markdown",
   "metadata": {},
   "source": [
    "### エスケープシーケンス\n",
    "- エスケープシーケンス（escape sequence）とは、文字列の中に通常は表記できない特殊な文字を混在させるために用いられる特別な記号のことです\n",
    "- Pythonでは文字列中に \\ を使用することで特殊文字として表現でき、よく使用されるのでいいますと \\n（改行文字）や \\t（タブ文字）などがあります\n",
    "#### 改行を含んだ文字列"
   ]
  },
  {
   "cell_type": "code",
   "execution_count": null,
   "metadata": {},
   "outputs": [],
   "source": [
    "# 改行コードを含んだ文字列を作成\n",
    "dagashi_all = \"ヤッチャンタコ(21円)\\nチロルリング(5円)\\nスーパーキャンディ(110円)\"\n",
    "print(dagashi_all)"
   ]
  },
  {
   "cell_type": "markdown",
   "metadata": {},
   "source": [
    "#### ダブルクォートを含んだ文字列\n",
    "- ダブルクォート \\\" や シングルクォート \\' もエスケープシーケンスを使うことで、文字列の定義の仕方に関わらず利用することができます"
   ]
  },
  {
   "cell_type": "code",
   "execution_count": null,
   "metadata": {},
   "outputs": [],
   "source": [
    "# エスケープシーケンスでダブルクォートを含んだ文字列を作成\n",
    "dagashi3 = \"スーパーキャンディ\\\"110円\\\"\"\n",
    "print(dagashi3)"
   ]
  },
  {
   "cell_type": "markdown",
   "metadata": {},
   "source": [
    "### 複数行の文字列\n",
    "#### \"\"\"で囲んだ複数行の文字列"
   ]
  },
  {
   "cell_type": "code",
   "execution_count": null,
   "metadata": {},
   "outputs": [],
   "source": [
    "dagashi_all = \"\"\"ヤッチャンタコ(21円)\n",
    "チロルリング(5円)\n",
    "スーパーキャンディ(110円)\"\"\"\n",
    "print(dagashi_all)"
   ]
  },
  {
   "cell_type": "markdown",
   "metadata": {},
   "source": [
    "---\n",
    "---\n",
    "---\n",
    "---\n",
    "---"
   ]
  },
  {
   "cell_type": "markdown",
   "metadata": {},
   "source": [
    "## 練習プログラム5　文字列の作り方 (10点)\n",
    "エスケープシーケンスを使った文字列を宣言して出力してみましょう。題材は何でも良いです"
   ]
  },
  {
   "cell_type": "code",
   "execution_count": null,
   "metadata": {},
   "outputs": [],
   "source": []
  },
  {
   "cell_type": "code",
   "execution_count": null,
   "metadata": {},
   "outputs": [],
   "source": [
    "#@title 送信処理用共通プログラム（以下のセルを「▶ 実行」して下さい。） { display-mode: \"form\" }\n",
    "#@markdown 解答の送信に必要です。（中身は絶対に修正しないでください）\n",
    "\n",
    "import os\n",
    "os.makedirs(\".client/python\", exist_ok=True)  # 隠しフォルダを作成\n",
    "!wget -q https://raw.githubusercontent.com/YasuharuSuzuki/25_programing1/feature/add_class01/91_notebook_client/src/setup.sh -O .client/setup.sh   # 外部コードをダウンロードして隠しフォルダに配置\n",
    "!chmod +x ./.client/setup.sh\n",
    "!bash ./.client/setup.sh # 実行\n",
    "\n",
    "# sandbox実行用\n",
    "# os.symlink(\"../../src\", \".client\", target_is_directory=True)\n",
    "# !bash ./sandbox_setup.sh # 実行\n",
    "\n",
    "# モジュールの初期化\n",
    "exec(open('.client/client_setup.py').read())\n",
    "\n",
    "# ノートブック固有の設定\n",
    "NOTEBOOK_PATH = \"03_値と変数/04_文字列と演算子.ipynb\"\n",
    "set_notebook_config(NOTEBOOK_PATH)"
   ]
  },
  {
   "cell_type": "code",
   "execution_count": null,
   "metadata": {},
   "outputs": [],
   "source": [
    "#@title 練習プログラム5 送信ボタン表示（以下のセルを「▶ 実行」して下さい。） { display-mode: \"form\" }\n",
    "#@markdown メールアドレスを取得して、送信ボタンを押してください（中のプログラムは絶対に修正しないでください）\n",
    "display(create_submit_button(problem_number=5))"
   ]
  },
  {
   "cell_type": "markdown",
   "metadata": {},
   "source": [
    "---\n",
    "---\n",
    "---\n",
    "---\n",
    "---"
   ]
  },
  {
   "cell_type": "markdown",
   "metadata": {},
   "source": [
    "## サンプルプログラム6　文字列の連結\n",
    "### 文字列の連結\n",
    "- \\+ (プラス) 記号を用いることで文字列を連結することができます"
   ]
  },
  {
   "cell_type": "code",
   "execution_count": null,
   "metadata": {},
   "outputs": [],
   "source": [
    "# \"佐藤\" と \"さん\" を”＋”演算子で連結した文字列を作成\n",
    "name = \"佐藤\" + \"さん\"\n",
    "name "
   ]
  },
  {
   "cell_type": "markdown",
   "metadata": {},
   "source": [
    "#### 変数a、b、cに入れた文字列連結した文字列を作る"
   ]
  },
  {
   "cell_type": "code",
   "execution_count": null,
   "metadata": {},
   "outputs": [],
   "source": [
    "a = \"Password付きZIPファイルを送ります、\"\n",
    "b = \"Passwordを送ります、\"\n",
    "c = \"Angoka（暗号化）、\"\n",
    "d = \"Protocol（プロトコル）\"\n",
    "print(a + b + c + d)"
   ]
  },
  {
   "cell_type": "markdown",
   "metadata": {},
   "source": [
    "### 数値と文字列を連結する\n",
    "- 数値と文字列を \\+ (プラス) 記号で連結するとエラーになるので注意しましょう"
   ]
  },
  {
   "cell_type": "code",
   "execution_count": null,
   "metadata": {},
   "outputs": [],
   "source": [
    "price = 3980 + \"円\""
   ]
  },
  {
   "cell_type": "markdown",
   "metadata": {},
   "source": [
    "- 上記のエラーは、 + (プラス) 記号に整数型(int)と文字列型(str)を渡すのはサポートされていません、と書いてあります"
   ]
  },
  {
   "cell_type": "markdown",
   "metadata": {},
   "source": [
    "#### 数値を文字列に変換して連結する\n",
    "- 数値と文字列を連結するには、数値を str() を使用して文字列に変換してから + (プラス) 記号で連結します"
   ]
  },
  {
   "cell_type": "code",
   "execution_count": null,
   "metadata": {},
   "outputs": [],
   "source": [
    "# 数値を文字列に変換して連結した文字列を作成\n",
    "price = str(3980) + \"円\"\n",
    "price"
   ]
  },
  {
   "cell_type": "markdown",
   "metadata": {},
   "source": [
    "#### 計算結果を文字列に変換して連結する\n",
    "- 計算結果をstr()で括って文字列と連結することも可能です"
   ]
  },
  {
   "cell_type": "code",
   "execution_count": null,
   "metadata": {},
   "outputs": [],
   "source": [
    "students = 39\n",
    "dagashi_price = 21\n",
    "total_price = str(students * dagashi_price) + \"円\"\n",
    "total_price"
   ]
  },
  {
   "cell_type": "markdown",
   "metadata": {},
   "source": [
    "---\n",
    "---\n",
    "---\n",
    "---\n",
    "---"
   ]
  },
  {
   "cell_type": "markdown",
   "metadata": {},
   "source": [
    "## 練習プログラム6　文字列の連結 (10点)\n",
    "- 何らかの計算をおこなって、計算結果を変数に格納しましょう。題材は何でも良いです\n",
    "- 計算結果をstr()で括って文字列と連結して出力しましょう。"
   ]
  },
  {
   "cell_type": "code",
   "execution_count": null,
   "metadata": {},
   "outputs": [],
   "source": []
  },
  {
   "cell_type": "code",
   "execution_count": null,
   "metadata": {},
   "outputs": [],
   "source": [
    "#@title 練習プログラム6 送信ボタン表示（以下のセルを「▶ 実行」して下さい。） { display-mode: \"form\" }\n",
    "#@markdown メールアドレスを取得して、送信ボタンを押してください（中のプログラムは絶対に修正しないでください）\n",
    "display(create_submit_button(problem_number=6))"
   ]
  },
  {
   "cell_type": "markdown",
   "metadata": {},
   "source": [
    "---\n",
    "---\n",
    "---\n",
    "---\n",
    "---"
   ]
  },
  {
   "cell_type": "markdown",
   "metadata": {},
   "source": [
    "## サンプルプログラム7 [ ] で文字列を取り出す\n",
    "### 文字を取り出す\n",
    "- 文字列に対して [ ] で位置を指定して文字を取り出すことができます\n",
    "- 指定する位置は0で始まる数字で指定するのでご注意下さい。\n",
    "  - 1文字目を取り出すときは0を指定します。\n",
    "  - 2文字目を取り出すときは1を指定します。\n",
    "  - 100文字目を取り出すときは99を指定します。"
   ]
  },
  {
   "cell_type": "code",
   "execution_count": null,
   "metadata": {},
   "outputs": [],
   "source": [
    "student_id = \"ABCDEFG123456\"\n",
    "\n",
    "# 3文字目を取り出す\n",
    "student_id[2]"
   ]
  },
  {
   "cell_type": "markdown",
   "metadata": {},
   "source": [
    "- マイナス値で位置を指定すると最後からの位置の指定になります\n",
    "  - -1 を指定することで最後の文字を取り出すことが出来ます\n",
    "  - -2 を指定すると最後から２つめの文字を取り出すことが出来ます"
   ]
  },
  {
   "cell_type": "code",
   "execution_count": null,
   "metadata": {},
   "outputs": [],
   "source": [
    "# マイナス値でインデックスを指定して最後の文字を取り出す\n",
    "student_id[-1]"
   ]
  },
  {
   "cell_type": "markdown",
   "metadata": {},
   "source": [
    "#### 値の変更はできない\n",
    "- 文字列の要素を指定して、その位置にある文字を変更することはできません"
   ]
  },
  {
   "cell_type": "code",
   "execution_count": null,
   "metadata": {},
   "outputs": [],
   "source": [
    "student_id[2] = 'w'"
   ]
  },
  {
   "cell_type": "markdown",
   "metadata": {},
   "source": [
    "### 部分文字列を取り出す(スライス)\n",
    "- 位置を指定するときにコロン : で区切って 開始位置 : 終了位置 を指定することで部分文字列を取り出すことが可能です（この機能をスライスと言います）\n",
    "- 開始位置だけを指定すると、開始位置以降の文字列をすべて取り出すことが出来ます"
   ]
  },
  {
   "cell_type": "code",
   "execution_count": null,
   "metadata": {},
   "outputs": [],
   "source": [
    "# 8文字目以降を全部取り出す\n",
    "flavor_snack_info = \"Yacchan Ika is a flavorful snack of squid with a sauce on the squid's feet, which can also be used as a snack for alcoholic beverages!\"\n",
    "flavor_snack_info[8:]"
   ]
  },
  {
   "cell_type": "code",
   "execution_count": null,
   "metadata": {},
   "outputs": [],
   "source": [
    "# 8文字目～3文字を取り出す\n",
    "flavor_snack_info[8:11]"
   ]
  },
  {
   "cell_type": "code",
   "execution_count": null,
   "metadata": {},
   "outputs": [],
   "source": [
    "# 後ろから10文字目までを全部取り出す\n",
    "flavor_snack_info[:-10]"
   ]
  },
  {
   "cell_type": "markdown",
   "metadata": {},
   "source": [
    "---\n",
    "---\n",
    "---\n",
    "---\n",
    "---"
   ]
  },
  {
   "cell_type": "markdown",
   "metadata": {},
   "source": [
    "## 練習プログラム7 [ ] で文字列を取り出す (10点)\n",
    "- スライスを使って文字列から部分文字列を抽出し、出力してみましょう。題材は何でも良いです"
   ]
  },
  {
   "cell_type": "code",
   "execution_count": null,
   "metadata": {},
   "outputs": [],
   "source": []
  },
  {
   "cell_type": "code",
   "execution_count": null,
   "metadata": {},
   "outputs": [],
   "source": [
    "#@title 練習プログラム7 送信ボタン表示（以下のセルを「▶ 実行」して下さい。） { display-mode: \"form\" }\n",
    "#@markdown メールアドレスを取得して、送信ボタンを押してください（中のプログラムは絶対に修正しないでください）\n",
    "display(create_submit_button(problem_number=7))"
   ]
  },
  {
   "cell_type": "code",
   "execution_count": null,
   "metadata": {},
   "outputs": [],
   "source": []
  }
 ],
 "metadata": {
  "colab": {
   "authorship_tag": "ABX9TyMOtB7OiTVLb+yu2KoVwjto",
   "include_colab_link": true,
   "provenance": []
  },
  "kernelspec": {
   "display_name": "25_programing1_dev",
   "language": "python",
   "name": "25_programing1_dev"
  },
  "language_info": {
   "codemirror_mode": {
    "name": "ipython",
    "version": 3
   },
   "file_extension": ".py",
   "mimetype": "text/x-python",
   "name": "python",
   "nbconvert_exporter": "python",
   "pygments_lexer": "ipython3",
   "version": "3.13.7"
  }
 },
 "nbformat": 4,
 "nbformat_minor": 4
}
