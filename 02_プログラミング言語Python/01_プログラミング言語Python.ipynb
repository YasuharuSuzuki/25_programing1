{
 "cells": [
  {
   "cell_type": "markdown",
   "metadata": {},
   "source": [
    "<a href=\"https://colab.research.google.com/github/YasuharuSuzuki/25_programing1/blob/main/\" target=\"_parent\"><img src=\"https://colab.research.google.com/assets/colab-badge.svg\" alt=\"Open In Colab\"/></a>"
   ]
  },
  {
   "cell_type": "markdown",
   "metadata": {},
   "source": [
    "# Section 1 Python をはじめよう\n",
    "- まずは簡単な、文字列を出力するプログラムから初めてみましょう"
   ]
  },
  {
   "cell_type": "markdown",
   "metadata": {},
   "source": [
    "## 参考サイト\n",
    "### [参考サイト1【Python入門】1-0. Colaboratory (Colab) の使い方](https://utokyo-ipp.github.io/1/1-0.html)\n",
    "### [参考サイト2【Python入門】1-1. 数値演算](https://utokyo-ipp.github.io/1/1-1.html)\n",
    "### [参考サイト3【Python早見表】基本的な計算](https://chokkan.github.io/python/01calc.html)"
   ]
  },
  {
   "cell_type": "markdown",
   "metadata": {},
   "source": [
    "## サンプルプログラム1　\"Hello World !\" と出力してみよう\n",
    "- print文を使用して文字列を渡すと、文字列が出力されます\n",
    "- ここではまず \"Hello World !\" を渡して出力されることを確認してみましょう"
   ]
  },
  {
   "cell_type": "code",
   "execution_count": 1,
   "metadata": {},
   "outputs": [
    {
     "name": "stdout",
     "output_type": "stream",
     "text": [
      "Hello World !\n"
     ]
    }
   ],
   "source": [
    "print(\"Hello World !\")"
   ]
  },
  {
   "cell_type": "markdown",
   "metadata": {},
   "source": [
    "## 練習プログラム1　\"ハローワールド！\" と出力してみよう (20点)\n",
    "- \"ハローワールド!\" と日本語を渡して出力されることを確認してみましょう"
   ]
  },
  {
   "cell_type": "code",
   "execution_count": null,
   "metadata": {},
   "outputs": [
    {
     "name": "stdout",
     "output_type": "stream",
     "text": [
      "ハローワールド！\n"
     ]
    }
   ],
   "source": []
  },
  {
   "cell_type": "code",
   "execution_count": 3,
   "metadata": {},
   "outputs": [
    {
     "name": "stdout",
     "output_type": "stream",
     "text": [
      "🔧 ローカル開発環境(sandbox) セットアップ中...\n",
      "✅ ローカル開発環境(sandbox) セットアップ完了\n",
      "\n",
      "📝 注意事項:\n",
      "   - Notebookで exec(open('.client/client_setup.py').read()) を実行してください\n",
      "   - 環境設定は .env / .envrc ファイルで管理されます\n",
      "🚀 共通プログラム初期化中...\n",
      "✅ 保存済みメールアドレス取得: 99zz888@okiu.ac.jp\n",
      "送信ボタン用関数が読み込まれました（問題番号別送信ボタン検索・Notebook構造解析・localStorage/ファイル保存対応・送信時自動保存）\n",
      "🔧 採点システムURL設定: http://localhost:8080\n",
      "🔧 採点システムURL: http://localhost:8080\n",
      "✅ 送信機能の初期化完了\n",
      "📋 ノートブックパス: 02_プログラミング言語Python/01_プログラミング言語Python.ipynb\n",
      "✅ グローバル設定に保存しました\n"
     ]
    }
   ],
   "source": [
    "#@title 送信処理用共通プログラム実行（以下のセルを「▶ 実行」して下さい。） { display-mode: \"form\" }\n",
    "#@markdown 解答の送信に必要です。（中身は絶対に修正しないでください）\n",
    "\n",
    "# import os\n",
    "# os.makedirs(\".client/python\", exist_ok=True)  # 隠しフォルダを作成\n",
    "# !wget -q https://raw.githubusercontent.com/YasuharuSuzuki/25_programing1/feature/add_class01/91_notebook_client/src/setup.sh -O .client/setup.sh   # 外部コードをダウンロードして隠しフォルダに配置\n",
    "# !chmod +x ./.client/setup.sh\n",
    "# !bash ./.client/setup.sh # 実行\n",
    "\n",
    "# sandbox実行用\n",
    "# os.symlink(\"../src\", \".client\", target_is_directory=True)\n",
    "!bash ./sandbox_setup.sh # 実行\n",
    "\n",
    "# モジュールの初期化\n",
    "exec(open('.client/client_setup.py').read())\n",
    "\n",
    "# ノートブック固有の設定\n",
    "NOTEBOOK_PATH = \"02_プログラミング言語Python/01_プログラミング言語Python.ipynb\"\n",
    "set_notebook_config(NOTEBOOK_PATH)"
   ]
  },
  {
   "cell_type": "code",
   "execution_count": 4,
   "metadata": {},
   "outputs": [
    {
     "name": "stdout",
     "output_type": "stream",
     "text": [
      "🔧 採点システムURL設定: http://localhost:8080\n",
      "📋 ノートブックパス設定: 02_プログラミング言語Python/01_プログラミング言語Python.ipynb\n",
      "🎯 保存済みメールアドレスを自動設定: 99zz888@okiu.ac.jp\n"
     ]
    },
    {
     "data": {
      "application/vnd.jupyter.widget-view+json": {
       "model_id": "16857c56bd8e4f7f885c8db34f20a243",
       "version_major": 2,
       "version_minor": 0
      },
      "text/plain": [
       "VBox(children=(HTML(value='<h4>📤 練習プログラム1 解答送信</h4>'), HTML(value='<small>💡 メールアドレスは自動保存されます</small>'), Text(v…"
      ]
     },
     "metadata": {},
     "output_type": "display_data"
    }
   ],
   "source": [
    "#@title 練習プログラム1 送信ボタン表示（以下のセルを「▶ 実行」して下さい。） { display-mode: \"form\" }\n",
    "#@markdown メールアドレスを取得して、送信ボタンを押してください（中のプログラムは絶対に修正しないでください）\n",
    "display(create_submit_button(problem_number=1))"
   ]
  },
  {
   "cell_type": "markdown",
   "metadata": {},
   "source": [
    "## サンプルプログラム２ Pythonで計算する\n",
    "- Pythonで計算が出来ます"
   ]
  },
  {
   "cell_type": "markdown",
   "metadata": {},
   "source": [
    "### 簡単な計算\n",
    "#### まずは 3 + 5 を行ってみましょう\n",
    "- 空白も含めて文字はすべて半角で入力してください。"
   ]
  },
  {
   "cell_type": "code",
   "execution_count": 5,
   "metadata": {},
   "outputs": [
    {
     "data": {
      "text/plain": [
       "8"
      ]
     },
     "execution_count": 5,
     "metadata": {},
     "output_type": "execute_result"
    }
   ],
   "source": [
    "3 + 5"
   ]
  },
  {
   "cell_type": "markdown",
   "metadata": {},
   "source": [
    "#### 続いて 128 * 3 を行ってみましょう\n",
    "- かけ算の演算子は * です"
   ]
  },
  {
   "cell_type": "code",
   "execution_count": 6,
   "metadata": {},
   "outputs": [
    {
     "data": {
      "text/plain": [
       "384"
      ]
     },
     "execution_count": 6,
     "metadata": {},
     "output_type": "execute_result"
    }
   ],
   "source": [
    "128 * 3"
   ]
  },
  {
   "cell_type": "markdown",
   "metadata": {},
   "source": [
    "#### 次は割り算を試してみましょう\n",
    "- 割り算の演算子は / です。7 + 6 / 3 を計算すると幾つになるでしょうか？"
   ]
  },
  {
   "cell_type": "code",
   "execution_count": 7,
   "metadata": {},
   "outputs": [
    {
     "data": {
      "text/plain": [
       "9.0"
      ]
     },
     "execution_count": 7,
     "metadata": {},
     "output_type": "execute_result"
    }
   ],
   "source": [
    "7 + 6 / 3"
   ]
  },
  {
   "cell_type": "markdown",
   "metadata": {},
   "source": [
    "- 答えは 9.0 となりました\n",
    "- 数学と同様にPythonの四則演算でも足し算、引き算より掛け算、割り算の方が高い優先順位で実行されます\n",
    "- 上の式では先に 6 / 3 が実行され、その後で 7 が足されたため答えが 9 となりました。"
   ]
  },
  {
   "cell_type": "markdown",
   "metadata": {},
   "source": [
    "#### 先に 7+6 が実行されるようにするには小カッコで括ることで可能となります。"
   ]
  },
  {
   "cell_type": "code",
   "execution_count": 8,
   "metadata": {},
   "outputs": [
    {
     "data": {
      "text/plain": [
       "4.333333333333333"
      ]
     },
     "execution_count": 8,
     "metadata": {},
     "output_type": "execute_result"
    }
   ],
   "source": [
    "(7 + 6) / 3"
   ]
  },
  {
   "cell_type": "markdown",
   "metadata": {},
   "source": [
    "## 練習プログラム２ Pythonで計算する (40点)\n",
    "- 4 + 5 を行ってみましょう"
   ]
  },
  {
   "cell_type": "code",
   "execution_count": null,
   "metadata": {},
   "outputs": [
    {
     "data": {
      "text/plain": [
       "9"
      ]
     },
     "execution_count": 9,
     "metadata": {},
     "output_type": "execute_result"
    }
   ],
   "source": []
  },
  {
   "cell_type": "markdown",
   "metadata": {},
   "source": [
    "- 続いて 256 * 7 を行ってみましょう"
   ]
  },
  {
   "cell_type": "code",
   "execution_count": null,
   "metadata": {},
   "outputs": [
    {
     "data": {
      "text/plain": [
       "1792"
      ]
     },
     "execution_count": 10,
     "metadata": {},
     "output_type": "execute_result"
    }
   ],
   "source": []
  },
  {
   "cell_type": "markdown",
   "metadata": {},
   "source": [
    "- 3 + 5 / 2 を計算すると幾つになるでしょうか？"
   ]
  },
  {
   "cell_type": "code",
   "execution_count": null,
   "metadata": {},
   "outputs": [
    {
     "data": {
      "text/plain": [
       "5.5"
      ]
     },
     "execution_count": 11,
     "metadata": {},
     "output_type": "execute_result"
    }
   ],
   "source": []
  },
  {
   "cell_type": "markdown",
   "metadata": {},
   "source": [
    "-  先に 3+5 を実行されるように小カッコで括って計算してみましょう"
   ]
  },
  {
   "cell_type": "code",
   "execution_count": null,
   "metadata": {},
   "outputs": [
    {
     "data": {
      "text/plain": [
       "4.0"
      ]
     },
     "execution_count": 12,
     "metadata": {},
     "output_type": "execute_result"
    }
   ],
   "source": []
  },
  {
   "cell_type": "code",
   "execution_count": 13,
   "metadata": {},
   "outputs": [
    {
     "name": "stdout",
     "output_type": "stream",
     "text": [
      "🔧 採点システムURL設定: http://localhost:8080\n",
      "📋 ノートブックパス設定: 02_プログラミング言語Python/01_プログラミング言語Python.ipynb\n",
      "🎯 保存済みメールアドレスを自動設定: ptt1245@okiu.ac.jp\n"
     ]
    },
    {
     "data": {
      "application/vnd.jupyter.widget-view+json": {
       "model_id": "a1508971c78a460db70154145ff90457",
       "version_major": 2,
       "version_minor": 0
      },
      "text/plain": [
       "VBox(children=(HTML(value='<h4>📤 練習プログラム2 解答送信</h4>'), HTML(value='<small>💡 メールアドレスは自動保存されます</small>'), Text(v…"
      ]
     },
     "metadata": {},
     "output_type": "display_data"
    }
   ],
   "source": [
    "#@title 練習プログラム2 送信ボタン表示（以下のセルを「▶ 実行」して下さい。） { display-mode: \"form\" }\n",
    "#@markdown 表示された入力欄にメールアドレスを記入して、送信ボタンを押してください\n",
    "display(create_submit_button(problem_number=2))"
   ]
  },
  {
   "cell_type": "markdown",
   "metadata": {},
   "source": [
    "## サンプルプログラム3 変数を使った計算\n",
    "- Pythonでは変数に値を格納して計算ができます\n",
    "  - 他の言語と比較すると、Pythonでは変数宣言が必要なく、型指定もありません"
   ]
  },
  {
   "cell_type": "markdown",
   "metadata": {},
   "source": [
    "#### count = 8 * 7 と宣言した変数にすぐ値を格納して、表示してみましょう"
   ]
  },
  {
   "cell_type": "code",
   "execution_count": 14,
   "metadata": {},
   "outputs": [
    {
     "data": {
      "text/plain": [
       "56"
      ]
     },
     "execution_count": 14,
     "metadata": {},
     "output_type": "execute_result"
    }
   ],
   "source": [
    "count = 8 * 7\n",
    "count"
   ]
  },
  {
   "cell_type": "markdown",
   "metadata": {},
   "source": [
    "#### all_ball = red_ball + white_ball\n",
    "- 赤いボールが4個、白いボールが7個あります\n",
    "- 変数を使って合計を求めてみましょう"
   ]
  },
  {
   "cell_type": "code",
   "execution_count": 15,
   "metadata": {},
   "outputs": [
    {
     "data": {
      "text/plain": [
       "11"
      ]
     },
     "execution_count": 15,
     "metadata": {},
     "output_type": "execute_result"
    }
   ],
   "source": [
    "red_ball = 4\n",
    "white_ball = 7\n",
    "all_ball = red_ball + white_ball\n",
    "all_ball"
   ]
  },
  {
   "cell_type": "markdown",
   "metadata": {},
   "source": [
    "#### red_ball / all_ball\n",
    "- 変数を使って割り算する"
   ]
  },
  {
   "cell_type": "code",
   "execution_count": 16,
   "metadata": {},
   "outputs": [
    {
     "data": {
      "text/plain": [
       "0.36363636363636365"
      ]
     },
     "execution_count": 16,
     "metadata": {},
     "output_type": "execute_result"
    }
   ],
   "source": [
    "red_ball / all_ball"
   ]
  },
  {
   "cell_type": "markdown",
   "metadata": {},
   "source": [
    "#### 変数の値を変更する\n",
    "- 赤いボールを8個に変更し、先程と同じように合計を求めてみましょう"
   ]
  },
  {
   "cell_type": "code",
   "execution_count": 17,
   "metadata": {},
   "outputs": [
    {
     "data": {
      "text/plain": [
       "15"
      ]
     },
     "execution_count": 17,
     "metadata": {},
     "output_type": "execute_result"
    }
   ],
   "source": [
    "red_ball = 8\n",
    "all_ball = red_ball + white_ball\n",
    "all_ball"
   ]
  },
  {
   "cell_type": "markdown",
   "metadata": {},
   "source": [
    "#### エラーが出たら、エラー文をしっかり読もう\n",
    "- タイポでもエラーが出ます\n",
    "- エラー文を読むことが不具合修正への近道ですのでしっかり読みましょう"
   ]
  },
  {
   "cell_type": "code",
   "execution_count": 18,
   "metadata": {},
   "outputs": [
    {
     "ename": "NameError",
     "evalue": "name 'redball' is not defined",
     "output_type": "error",
     "traceback": [
      "\u001b[31m---------------------------------------------------------------------------\u001b[39m",
      "\u001b[31mNameError\u001b[39m                                 Traceback (most recent call last)",
      "\u001b[36mCell\u001b[39m\u001b[36m \u001b[39m\u001b[32mIn[18]\u001b[39m\u001b[32m, line 1\u001b[39m\n\u001b[32m----> \u001b[39m\u001b[32m1\u001b[39m \u001b[43mredball\u001b[49m\n",
      "\u001b[31mNameError\u001b[39m: name 'redball' is not defined"
     ]
    }
   ],
   "source": [
    "redball"
   ]
  },
  {
   "cell_type": "markdown",
   "metadata": {},
   "source": [
    "### printで変数の内容を表示してみよう"
   ]
  },
  {
   "cell_type": "code",
   "execution_count": 19,
   "metadata": {},
   "outputs": [
    {
     "name": "stdout",
     "output_type": "stream",
     "text": [
      "15\n"
     ]
    }
   ],
   "source": [
    "print(all_ball)"
   ]
  },
  {
   "cell_type": "markdown",
   "metadata": {},
   "source": [
    "## 練習プログラム3 変数を使った計算(40点)\n",
    "- 黒猫(black_cat)が3匹、白猫(white_cat)が2匹おります\n",
    "- 変数を使って合計の猫の頭数(all_cat)を求めて出力してみましょう"
   ]
  },
  {
   "cell_type": "code",
   "execution_count": null,
   "metadata": {},
   "outputs": [
    {
     "data": {
      "text/plain": [
       "5"
      ]
     },
     "execution_count": 20,
     "metadata": {},
     "output_type": "execute_result"
    }
   ],
   "source": []
  },
  {
   "cell_type": "markdown",
   "metadata": {},
   "source": [
    "- 黒猫(black_cat) / 合計の猫の頭数(all_cat) を計算して出力してみましょう"
   ]
  },
  {
   "cell_type": "code",
   "execution_count": null,
   "metadata": {},
   "outputs": [
    {
     "data": {
      "text/plain": [
       "0.6"
      ]
     },
     "execution_count": 21,
     "metadata": {},
     "output_type": "execute_result"
    }
   ],
   "source": []
  },
  {
   "cell_type": "markdown",
   "metadata": {},
   "source": [
    "- 白猫を4匹に変更し、先程と同じように合計を求めて出力してみましょう"
   ]
  },
  {
   "cell_type": "code",
   "execution_count": null,
   "metadata": {},
   "outputs": [
    {
     "data": {
      "text/plain": [
       "7"
      ]
     },
     "execution_count": 22,
     "metadata": {},
     "output_type": "execute_result"
    }
   ],
   "source": []
  },
  {
   "cell_type": "markdown",
   "metadata": {},
   "source": [
    "- printで合計の猫の頭数(all_cat)を表示してみよう"
   ]
  },
  {
   "cell_type": "code",
   "execution_count": null,
   "metadata": {},
   "outputs": [
    {
     "name": "stdout",
     "output_type": "stream",
     "text": [
      "7\n"
     ]
    }
   ],
   "source": []
  },
  {
   "cell_type": "code",
   "execution_count": 24,
   "metadata": {},
   "outputs": [
    {
     "name": "stdout",
     "output_type": "stream",
     "text": [
      "🔧 採点システムURL設定: http://localhost:8080\n",
      "📋 ノートブックパス設定: 02_プログラミング言語Python/01_プログラミング言語Python.ipynb\n",
      "🎯 保存済みメールアドレスを自動設定: ptt1245@okiu.ac.jp\n"
     ]
    },
    {
     "data": {
      "application/vnd.jupyter.widget-view+json": {
       "model_id": "0f28173649bf48a69c34187d34a693f6",
       "version_major": 2,
       "version_minor": 0
      },
      "text/plain": [
       "VBox(children=(HTML(value='<h4>📤 練習プログラム3 解答送信</h4>'), HTML(value='<small>💡 メールアドレスは自動保存されます</small>'), Text(v…"
      ]
     },
     "metadata": {},
     "output_type": "display_data"
    }
   ],
   "source": [
    "#@title 練習プログラム3 送信ボタン表示（以下のセルを「▶ 実行」して下さい。） { display-mode: \"form\" }\n",
    "#@markdown 表示された入力欄にメールアドレスを記入して、送信ボタンを押してください\n",
    "display(create_submit_button(problem_number=3))"
   ]
  }
 ],
 "metadata": {
  "kernelspec": {
   "display_name": "25_programing1_dev",
   "language": "python",
   "name": "25_programing1_dev"
  },
  "language_info": {
   "codemirror_mode": {
    "name": "ipython",
    "version": 3
   },
   "file_extension": ".py",
   "mimetype": "text/x-python",
   "name": "python",
   "nbconvert_exporter": "python",
   "pygments_lexer": "ipython3",
   "version": "3.13.7"
  }
 },
 "nbformat": 4,
 "nbformat_minor": 0
}
