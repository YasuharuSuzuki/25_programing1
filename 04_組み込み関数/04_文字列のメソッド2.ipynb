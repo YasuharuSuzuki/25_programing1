{
 "cells": [
  {
   "cell_type": "markdown",
   "metadata": {
    "colab_type": "text",
    "id": "view-in-github"
   },
   "source": [
    "<a href=\"https://colab.research.google.com/github/YasuharuSuzuki/25_programing1/blob/main/\" target=\"_parent\"><img src=\"https://colab.research.google.com/assets/colab-badge.svg\" alt=\"Open In Colab\"/></a>"
   ]
  },
  {
   "cell_type": "markdown",
   "metadata": {},
   "source": [
    "# Section 4-3 文字列のメソッド(2)"
   ]
  },
  {
   "cell_type": "markdown",
   "metadata": {},
   "source": [
    "---"
   ]
  },
  {
   "cell_type": "markdown",
   "metadata": {},
   "source": [
    "## サンプルプログラム9 前後の余分な文字を取り除く"
   ]
  },
  {
   "cell_type": "markdown",
   "metadata": {},
   "source": [
    "### 文字列の前後にある空白と改行コードを取り除く\n",
    "- strip() を使用すると文字列の前後にある空白と改行コードを取り除くことができます"
   ]
  },
  {
   "cell_type": "code",
   "execution_count": null,
   "metadata": {},
   "outputs": [],
   "source": [
    "t = \"   やっちゃんタコ   \\n\"\n",
    "\n",
    "# 文字列の前後にある空白と改行コードを取り除く\n",
    "print(t.strip())"
   ]
  },
  {
   "cell_type": "markdown",
   "metadata": {},
   "source": [
    "### 末尾にある連続した\".\"を取り除く\n",
    "- strip() に文字を指定することで、特定の文字を取り除くことができます"
   ]
  },
  {
   "cell_type": "code",
   "execution_count": null,
   "metadata": {},
   "outputs": [],
   "source": [
    "t = \"チロルリング......\"\n",
    "print(t.strip(\".\"))"
   ]
  },
  {
   "cell_type": "markdown",
   "metadata": {},
   "source": [
    "### 末尾にあるカンマ、ピリオド、改行コードを取り除く\n",
    "- rstrip() に複数文字を指定すると、末尾の該当する文字をすべて除去することが出来ます"
   ]
  },
  {
   "cell_type": "code",
   "execution_count": null,
   "metadata": {},
   "outputs": [],
   "source": [
    "t1 = \"やっちゃんタコ, チロルリング, スーパーキャンディ,\"\n",
    "print(t1.rstrip(\".,\\n\"))"
   ]
  },
  {
   "cell_type": "code",
   "execution_count": null,
   "metadata": {},
   "outputs": [],
   "source": [
    "t2 = \"ハロー ワールド.\\n\"\n",
    "print(t2.rstrip(\".,\\n\"))"
   ]
  },
  {
   "cell_type": "markdown",
   "metadata": {},
   "source": [
    "---"
   ]
  },
  {
   "cell_type": "markdown",
   "metadata": {},
   "source": [
    "## 練習プログラム9 前後の余分な文字を取り除く (8点)\n",
    "- 文字列の前後にある空白や改行コードを取り除くメソッドを使って余分な空白/改行を取り除き、取り除いたあとの文字列を出力してみましょう\n",
    "- 題材は何でも良いです"
   ]
  },
  {
   "cell_type": "code",
   "execution_count": null,
   "metadata": {},
   "outputs": [],
   "source": [
    "\n",
    "\n"
   ]
  },
  {
   "cell_type": "code",
   "execution_count": null,
   "metadata": {},
   "outputs": [],
   "source": [
    "#@title 送信処理用共通プログラム（以下のセルを「▶ 実行」して下さい。） { display-mode: \"form\" }\n",
    "#@markdown 解答の送信に必要です。（中身は絶対に修正しないでください）\n",
    "\n",
    "# import os\n",
    "# os.makedirs(\".client/python\", exist_ok=True)  # 隠しフォルダを作成\n",
    "# !wget -q https://raw.githubusercontent.com/YasuharuSuzuki/25_programing1/feature/add_class01/91_notebook_client/src/setup.sh -O .client/setup.sh   # 外部コードをダウンロードして隠しフォルダに配置\n",
    "# !chmod +x ./.client/setup.sh\n",
    "!bash ./.client/setup.sh # 実行\n",
    "\n",
    "# モジュールの初期化\n",
    "exec(open('.client/client_setup.py').read())\n",
    "\n",
    "# ノートブック固有の設定\n",
    "NOTEBOOK_PATH = \"04_組み込み関数/04_文字列のメソッド2.ipynb\"\n",
    "set_notebook_config(NOTEBOOK_PATH)"
   ]
  },
  {
   "cell_type": "code",
   "execution_count": null,
   "metadata": {},
   "outputs": [],
   "source": [
    "#@title 練習プログラム9 送信ボタン表示（以下のセルを「▶ 実行」して下さい。） { display-mode: \"form\" }\n",
    "#@markdown メールアドレスを取得して、送信ボタンを押してください（中のプログラムは絶対に修正しないでください）\n",
    "display(create_submit_button(problem_number=9))"
   ]
  },
  {
   "cell_type": "markdown",
   "metadata": {},
   "source": [
    "---\n",
    "---\n",
    "---\n",
    "---\n",
    "---"
   ]
  },
  {
   "cell_type": "markdown",
   "metadata": {},
   "source": [
    "### 文字列に値を埋め込む (format と fstring)"
   ]
  },
  {
   "cell_type": "markdown",
   "metadata": {},
   "source": [
    "## サンプルプログラム10 文字列に引数の値を埋め込む(format)\n",
    "- formatメソッドを使用して文字列に値を埋め込むことができます"
   ]
  },
  {
   "cell_type": "code",
   "execution_count": null,
   "metadata": {},
   "outputs": [],
   "source": [
    "# 文字列に値を埋め込む\n",
    "# {} の部分に赤、青、黄色を埋め込んで出力\n",
    "s = \"チューリップは{}と{}と{}でした。\"\n",
    "\n",
    "print(s.format(\"赤\",\"青\",\"黄色\"))"
   ]
  },
  {
   "cell_type": "markdown",
   "metadata": {},
   "source": [
    "### 埋め込む値に数値がある場合\n",
    "- 埋め込む値に数値がある場合も型変換不要で埋め込むことが可能です"
   ]
  },
  {
   "cell_type": "code",
   "execution_count": null,
   "metadata": {},
   "outputs": [],
   "source": [
    "name = \"高橋\"\n",
    "age = 23\n",
    "point = 102.5\n",
    "s = \"{}選手、年齢{}、得点{}でした。\"\n",
    "text = s.format(name, age, point)\n",
    "print(text)"
   ]
  },
  {
   "cell_type": "markdown",
   "metadata": {},
   "source": [
    "### 対応する引数の順番を番号で指定する\n",
    "- format()の引数の順番を、文字列内の{}に数字で指定することができます"
   ]
  },
  {
   "cell_type": "code",
   "execution_count": null,
   "metadata": {},
   "outputs": [],
   "source": [
    "print(\"得点{2}、{0}、{1}歳\".format(name, age, point))  # formatの引数の順番を、文字列内の{}に数字で指定して出力"
   ]
  },
  {
   "cell_type": "markdown",
   "metadata": {},
   "source": [
    "### 埋め込む引数をキーワード引数で指定する"
   ]
  },
  {
   "cell_type": "markdown",
   "metadata": {},
   "source": [
    "- format()にキーワード引数を使用し、文字列内の{}にキーワードで指定することができます"
   ]
  },
  {
   "cell_type": "code",
   "execution_count": null,
   "metadata": {},
   "outputs": [],
   "source": [
    "print(\"{name}選手、年齢{age}、得点{point}でした。\".format(name=\"高橋\", age=23, point=102.5))"
   ]
  },
  {
   "cell_type": "markdown",
   "metadata": {},
   "source": [
    "---"
   ]
  },
  {
   "cell_type": "markdown",
   "metadata": {},
   "source": [
    "## 練習プログラム10 文字列に引数の値を埋め込む(format) (8点)\n",
    "- formatメソッドを使用して文字列に値を埋め込んでみましょう。\n",
    "- 題材は何でも良いです"
   ]
  },
  {
   "cell_type": "code",
   "execution_count": null,
   "metadata": {},
   "outputs": [],
   "source": [
    "\n",
    "\n"
   ]
  },
  {
   "cell_type": "code",
   "execution_count": null,
   "metadata": {},
   "outputs": [],
   "source": [
    "#@title 練習プログラム10 送信ボタン表示（以下のセルを「▶ 実行」して下さい。） { display-mode: \"form\" }\n",
    "#@markdown メールアドレスを取得して、送信ボタンを押してください（中のプログラムは絶対に修正しないでください）\n",
    "display(create_submit_button(problem_number=10))"
   ]
  },
  {
   "cell_type": "markdown",
   "metadata": {},
   "source": [
    "---\n",
    "---\n",
    "---\n",
    "---\n",
    "---"
   ]
  },
  {
   "cell_type": "markdown",
   "metadata": {},
   "source": [
    "## サンプルプログラム11 文字列に値を埋め込む(f-string)\n",
    "- **f-string（フォーマット文字列）** とは、文字列の前に f を付けて書き、{} の中に変数や式を入れて値を表示できる仕組みです。\n",
    "- f-stringを使用すると、変数をそのまま文字列に埋め込むことが出来ます"
   ]
  },
  {
   "cell_type": "code",
   "execution_count": null,
   "metadata": {},
   "outputs": [],
   "source": [
    "name = \"高橋\"\n",
    "age = 23\n",
    "point = 102.5\n",
    "\n",
    "print(f\"{name}選手、年齢{age}、得点{point}でした。\")"
   ]
  },
  {
   "cell_type": "markdown",
   "metadata": {},
   "source": [
    "---"
   ]
  },
  {
   "cell_type": "markdown",
   "metadata": {},
   "source": [
    "## 練習プログラム11 文字列に値を埋め込む(f-string) (8点)\n",
    "- f-stringを使って文字列中に文字や数値を埋め込み、出力してみましょう\n",
    "- 題材は何でも良いです"
   ]
  },
  {
   "cell_type": "code",
   "execution_count": null,
   "metadata": {},
   "outputs": [],
   "source": [
    "\n",
    "\n"
   ]
  },
  {
   "cell_type": "code",
   "execution_count": null,
   "metadata": {},
   "outputs": [],
   "source": [
    "#@title 練習プログラム11 送信ボタン表示（以下のセルを「▶ 実行」して下さい。） { display-mode: \"form\" }\n",
    "#@markdown メールアドレスを取得して、送信ボタンを押してください（中のプログラムは絶対に修正しないでください）\n",
    "display(create_submit_button(problem_number=11))"
   ]
  },
  {
   "cell_type": "markdown",
   "metadata": {},
   "source": [
    "---\n",
    "---\n",
    "---\n",
    "---\n",
    "---"
   ]
  },
  {
   "cell_type": "markdown",
   "metadata": {},
   "source": [
    "## サンプルプログラム12 書式指定\n",
    "- format() および f-string では、 {値 : 書式} の形で書式を指定できます"
   ]
  },
  {
   "cell_type": "markdown",
   "metadata": {},
   "source": [
    "### 数値を位取りして埋め込む(fstring)\n",
    "- 書式にカンマを指定すると、3桁ごとのカンマ区切りで出力できます\n",
    "- 金額の出力時に便利です"
   ]
  },
  {
   "cell_type": "code",
   "execution_count": null,
   "metadata": {},
   "outputs": [],
   "source": [
    "tokyo = 123456000\n",
    "kyoto = 53900\n",
    "print(f\"東京{tokyo:,}、京都{kyoto:,}\")  # f-stringで数値にカンマ区切りの書式指定をして出力"
   ]
  },
  {
   "cell_type": "markdown",
   "metadata": {},
   "source": [
    "### 数値を位取りして埋め込む(format)\n",
    "- format() メソッドでも、同じようにカンマ区切りを指定できます"
   ]
  },
  {
   "cell_type": "code",
   "execution_count": null,
   "metadata": {},
   "outputs": [],
   "source": [
    "print(\"東京{:,}、京都{:,}\".format(tokyo, kyoto))  # formatメソッドで数値にカンマ区切りの書式指定をして出力"
   ]
  },
  {
   "cell_type": "markdown",
   "metadata": {},
   "source": [
    "### 🔹小数点以下の桁数指定(fstring)\n",
    "- 書式に「`.`（ドット）＋桁数＋`f`」を付けると、小数点以下の桁数を指定できます。\n",
    "- `f` は float（小数） の略です。"
   ]
  },
  {
   "cell_type": "code",
   "execution_count": null,
   "metadata": {},
   "outputs": [],
   "source": [
    "length = 25.34\n",
    "thickness = 5.62\n",
    "print(f\"長さ{length:.1f}cm、厚み{thickness:.0f}mm\")"
   ]
  },
  {
   "cell_type": "markdown",
   "metadata": {},
   "source": [
    "#### 💡補足\n",
    "- `:.1f` → 小数点以下1桁\n",
    "- `:.0f` → 小数点以下を表示しない（四捨五入）\n",
    "- `:.2f` のようにすれば2桁にもできます。"
   ]
  },
  {
   "cell_type": "markdown",
   "metadata": {},
   "source": [
    "### 小数点以下の桁数指定(format)\n",
    "- format() メソッドでも、同じように桁数指定できます"
   ]
  },
  {
   "cell_type": "code",
   "execution_count": null,
   "metadata": {},
   "outputs": [],
   "source": [
    "print(\"長さ{:.1f}cm、厚み{:.0f}mm\".format(length, thickness))"
   ]
  },
  {
   "cell_type": "markdown",
   "metadata": {},
   "source": [
    "### カンマ区切りと小数点以下２位までの表示\n",
    "- 両方指定することも可能です"
   ]
  },
  {
   "cell_type": "code",
   "execution_count": null,
   "metadata": {},
   "outputs": [],
   "source": [
    "num = 2345.032\n",
    "print(f\"{num:,.2f}\")"
   ]
  },
  {
   "cell_type": "markdown",
   "metadata": {},
   "source": [
    "### 値の位置揃え\n",
    "- `>` + `桁数` を用いることで桁数を指定して右詰めで出力することも可能です\n",
    "- 表のように数値をきれいに縦にそろえて表示したいときに便利です"
   ]
  },
  {
   "cell_type": "code",
   "execution_count": null,
   "metadata": {},
   "outputs": [],
   "source": [
    "# 10文字フィールドに右詰めで表示する\n",
    "num1 = 123.4\n",
    "num2 = 56.9\n",
    "num3 = 3040.1\n",
    "\n",
    "print(f\"{num1:>10.1f}\")\n",
    "print(f\"{num2:>10.1f}\")\n",
    "print(f\"{num3:>10.1f}\")"
   ]
  },
  {
   "cell_type": "markdown",
   "metadata": {},
   "source": [
    "#### 💡補足\n",
    "- `>` … 右詰め\n",
    "- 10.1f の「10」は全体の幅、「.1f」は小数点以下1桁を意味します。\n",
    "- 右詰めを使用することで小数点の位置が揃えられ、見やすくなっています"
   ]
  },
  {
   "cell_type": "markdown",
   "metadata": {},
   "source": [
    "---\n",
    "---\n",
    "---\n",
    "---\n",
    "---"
   ]
  },
  {
   "cell_type": "markdown",
   "metadata": {},
   "source": [
    "## 練習プログラム12 書式指定 (8点)\n",
    "- 小数点以下を3桁以上持つ小数値を定義し、formatメソッドまたはf-stringの桁数指定を使用して小数点以下2位までにまとめた文字列として出力してみましょう\n",
    "- 題材は何でも良いです"
   ]
  },
  {
   "cell_type": "code",
   "execution_count": null,
   "metadata": {},
   "outputs": [],
   "source": [
    "\n",
    "\n"
   ]
  },
  {
   "cell_type": "code",
   "execution_count": null,
   "metadata": {},
   "outputs": [],
   "source": [
    "#@title 練習プログラム12 送信ボタン表示（以下のセルを「▶ 実行」して下さい。） { display-mode: \"form\" }\n",
    "#@markdown メールアドレスを取得して、送信ボタンを押してください（中のプログラムは絶対に修正しないでください）\n",
    "display(create_submit_button(problem_number=12))"
   ]
  }
 ],
 "metadata": {
  "colab": {
   "authorship_tag": "ABX9TyMOtB7OiTVLb+yu2KoVwjto",
   "include_colab_link": true,
   "provenance": []
  },
  "kernelspec": {
   "display_name": "25_programing1_dev",
   "language": "python",
   "name": "25_programing1_dev"
  },
  "language_info": {
   "codemirror_mode": {
    "name": "ipython",
    "version": 3
   },
   "file_extension": ".py",
   "mimetype": "text/x-python",
   "name": "python",
   "nbconvert_exporter": "python",
   "pygments_lexer": "ipython3",
   "version": "3.13.7"
  }
 },
 "nbformat": 4,
 "nbformat_minor": 4
}
