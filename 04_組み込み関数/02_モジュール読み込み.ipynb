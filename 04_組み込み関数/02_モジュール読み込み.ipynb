{
 "cells": [
  {
   "cell_type": "markdown",
   "metadata": {
    "colab_type": "text",
    "id": "view-in-github"
   },
   "source": [
    "<a href=\"https://colab.research.google.com/github/YasuharuSuzuki/25_programing1/blob/main/\" target=\"_parent\"><img src=\"https://colab.research.google.com/assets/colab-badge.svg\" alt=\"Open In Colab\"/></a>"
   ]
  },
  {
   "cell_type": "markdown",
   "metadata": {},
   "source": [
    "# Section 4-2 モジュールを読み込む\n",
    "- 標準でインストールされていても、組み込み関数以外はモジュールを読み込む必要があります\n",
    "- ここではモジュールの読み込みと利用の仕方を学びましょう"
   ]
  },
  {
   "cell_type": "markdown",
   "metadata": {},
   "source": [
    "## 参考サイト\n",
    "### [参考サイト1【Python入門】5-1. モジュールの使い方](https://utokyo-ipp.github.io/5/5-1.html)\n",
    "### [参考サイト2【Python早見表】5.2. インストールされたモジュールの利用](https://chokkan.github.io/python/05module.html#id4)"
   ]
  },
  {
   "cell_type": "markdown",
   "metadata": {},
   "source": [
    "## サンプルプログラム3　mathモジュールを読み込んで使う"
   ]
  },
  {
   "cell_type": "markdown",
   "metadata": {},
   "source": [
    "### モジュールとは\n",
    "- モジュールとは、「Pythonでよく使う便利な機能をまとめた部品」のことです。\n",
    "- プログラムを作るとき、すべてを一から書くのは大変です。\n",
    "- そこで、よく使う処理（たとえば数学の計算、日付の扱い、ファイルの操作など）をモジュールとしてまとめておき、必要なときに読み込んで使うことができます。"
   ]
  },
  {
   "cell_type": "markdown",
   "metadata": {},
   "source": [
    "### mathモジュール\n",
    "- mathモジュールは、数学の計算に便利な機能を集めたモジュールです。\n",
    "- 四則演算（+ − × ÷）だけではできないような、「平方根」「三角関数」「円周率」などの計算を簡単に行うことができます。"
   ]
  },
  {
   "cell_type": "markdown",
   "metadata": {},
   "source": [
    "#### mathモジュールを読み込んで切り上げ ceil() と切り捨て floor() を使う"
   ]
  },
  {
   "cell_type": "code",
   "execution_count": null,
   "metadata": {},
   "outputs": [],
   "source": [
    "# mathモジュールを読み込み\n",
    "import math\n",
    "\n",
    "# math.ceil()で170.3を切り上げ\n",
    "math.ceil(170.3)"
   ]
  },
  {
   "cell_type": "code",
   "execution_count": null,
   "metadata": {},
   "outputs": [],
   "source": [
    "# math.floor()で170.3を切りすて\n",
    "math.floor(170.3)"
   ]
  },
  {
   "cell_type": "markdown",
   "metadata": {},
   "source": [
    "#### 円周率の定数（pi）とラジアンを度に変換する degrees()"
   ]
  },
  {
   "cell_type": "code",
   "execution_count": null,
   "metadata": {},
   "outputs": [],
   "source": [
    "import math\n",
    "math.pi"
   ]
  },
  {
   "cell_type": "code",
   "execution_count": null,
   "metadata": {},
   "outputs": [],
   "source": [
    "math.degrees(math.pi/2)"
   ]
  },
  {
   "cell_type": "markdown",
   "metadata": {},
   "source": [
    "#### 三角関数の正接を求める tan()を使って、距離と角度から木の高さを求める"
   ]
  },
  {
   "cell_type": "code",
   "execution_count": null,
   "metadata": {},
   "outputs": [],
   "source": [
    "import math\n",
    "kyori = 40\n",
    "kakudo = math.radians(15) # ラジアンに換算する\n",
    "takasa = kyori * math.tan(kakudo) # 高さを計算する\n",
    "takasa = math.floor(takasa * 100) / 100 # 小数点以下第２位で切り捨て\n",
    "print(str(takasa) + \"m\")"
   ]
  },
  {
   "cell_type": "markdown",
   "metadata": {},
   "source": [
    "---"
   ]
  },
  {
   "cell_type": "markdown",
   "metadata": {},
   "source": [
    "## 練習プログラム3　mathモジュールを読み込んで使う (8点)\n",
    "- mathモジュールの関数（ceil(), floor(), tan()等）を最低１つ使って、結果を出力してみましょう。題材は何でも良いです"
   ]
  },
  {
   "cell_type": "code",
   "execution_count": null,
   "metadata": {},
   "outputs": [],
   "source": [
    "\n"
   ]
  },
  {
   "cell_type": "code",
   "execution_count": null,
   "metadata": {},
   "outputs": [],
   "source": [
    "#@title 送信処理用共通プログラム（以下のセルを「▶ 実行」して下さい。） { display-mode: \"form\" }\n",
    "#@markdown 解答の送信に必要です。（中身は絶対に修正しないでください）\n",
    "\n",
    "# import os\n",
    "# os.makedirs(\".client/python\", exist_ok=True)  # 隠しフォルダを作成\n",
    "# !wget -q https://raw.githubusercontent.com/YasuharuSuzuki/25_programing1/feature/add_class01/91_notebook_client/src/setup.sh -O .client/setup.sh   # 外部コードをダウンロードして隠しフォルダに配置\n",
    "# !chmod +x ./.client/setup.sh\n",
    "!bash ./.client/setup.sh # 実行\n",
    "\n",
    "# モジュールの初期化\n",
    "exec(open('.client/client_setup.py').read())\n",
    "\n",
    "# ノートブック固有の設定\n",
    "NOTEBOOK_PATH = \"04_組み込み関数/02_モジュール読み込み.ipynb\"\n",
    "set_notebook_config(NOTEBOOK_PATH)"
   ]
  },
  {
   "cell_type": "code",
   "execution_count": null,
   "metadata": {},
   "outputs": [],
   "source": [
    "#@title 練習プログラム3 送信ボタン表示（以下のセルを「▶ 実行」して下さい。） { display-mode: \"form\" }\n",
    "#@markdown メールアドレスを取得して、送信ボタンを押してください（中のプログラムは絶対に修正しないでください）\n",
    "display(create_submit_button(problem_number=3))"
   ]
  },
  {
   "cell_type": "markdown",
   "metadata": {},
   "source": [
    "---\n",
    "---\n",
    "---\n",
    "---\n",
    "---"
   ]
  },
  {
   "cell_type": "markdown",
   "metadata": {},
   "source": [
    "## サンプルプログラム4 モジュールから関数を指定して読み込む\n",
    "- randomモジュールからrandint()を読み込んで使ってみましょう"
   ]
  },
  {
   "cell_type": "markdown",
   "metadata": {},
   "source": [
    "### 🔸 解説\n",
    "#### randomモジュールとは\n",
    "- Pythonに最初から用意されている「ランダムな値を作るためのモジュール」です。\n",
    "- 例：くじ引き、サイコロ、乱数を使ったゲームなどに使います。\n"
   ]
  },
  {
   "cell_type": "markdown",
   "metadata": {},
   "source": [
    "#### 🎲 randint()とは\n",
    "- randint() は、randomモジュールの中にある「指定した範囲の整数をランダムに出す」関数です。\n",
    "- たとえば「1から6までのサイコロの目をランダムに出す」ときに使えます。"
   ]
  },
  {
   "cell_type": "markdown",
   "metadata": {},
   "source": [
    "#### モジュールから関数を指定して読み込む\n",
    "- `from モジュール名 import 関数名` という形式で、モジュールから特定の関数だけを読み込むことができます。\n",
    "- たとえば、`from random import randint` の意味は、randomモジュールの中にある関数のうち、randint()だけを読み込むという意味です。"
   ]
  },
  {
   "cell_type": "code",
   "execution_count": null,
   "metadata": {},
   "outputs": [],
   "source": [
    "# randomモジュールからrandint()関数を指定して読み込む\n",
    "from random import randint\n",
    "\n",
    "# randint()関数で1〜12の乱数を得る\n",
    "randint(1, 12)"
   ]
  },
  {
   "cell_type": "markdown",
   "metadata": {},
   "source": [
    "- 乱数なので毎回結果が異なります。同じ関数をもう一度呼び出してみましょう"
   ]
  },
  {
   "cell_type": "code",
   "execution_count": null,
   "metadata": {},
   "outputs": [],
   "source": [
    "# 乱数を取得する(2)\n",
    "randint(1, 12)"
   ]
  },
  {
   "cell_type": "markdown",
   "metadata": {},
   "source": [
    "---"
   ]
  },
  {
   "cell_type": "markdown",
   "metadata": {},
   "source": [
    "## 練習プログラム4 モジュールから関数を指定して読み込む (8点)\n",
    "- モジュールから関数を指定して読み込んで使ってみましょう。題材は何でも良いです\n",
    "- 使用したら、プログラムの結果を出力してみましょう"
   ]
  },
  {
   "cell_type": "code",
   "execution_count": null,
   "metadata": {},
   "outputs": [],
   "source": [
    "\n"
   ]
  },
  {
   "cell_type": "code",
   "execution_count": null,
   "metadata": {},
   "outputs": [],
   "source": [
    "#@title 練習プログラム4 送信ボタン表示（以下のセルを「▶ 実行」して下さい。） { display-mode: \"form\" }\n",
    "#@markdown メールアドレスを取得して、送信ボタンを押してください（中のプログラムは絶対に修正しないでください）\n",
    "display(create_submit_button(problem_number=4))"
   ]
  },
  {
   "cell_type": "markdown",
   "metadata": {},
   "source": [
    "---\n",
    "---\n",
    "---\n",
    "---\n",
    "---"
   ]
  },
  {
   "cell_type": "markdown",
   "metadata": {},
   "source": [
    "## サンプルプログラム5 モジュールから読み込んだ関数に別名を付けて使う\n",
    "\n",
    "- `from モジュール名 import 関数名 as 別名` という形式で、モジュールから特定の関数を別名を付けて読み込むことができます。\n",
    "- たとえば、`from random import randint as dice100` の意味は、randint()を読み込んで dice100 という別名をつける、という意味です。\n",
    "\n",
    "#### randint()をdice100の名前で読み込む"
   ]
  },
  {
   "cell_type": "code",
   "execution_count": null,
   "metadata": {},
   "outputs": [],
   "source": [
    "# 別モジュールから関数に別名を付けて読み込む\n",
    "from random import randint as dice100\n",
    "\n",
    "dice100(1, 100)"
   ]
  },
  {
   "cell_type": "markdown",
   "metadata": {},
   "source": [
    "---"
   ]
  },
  {
   "cell_type": "markdown",
   "metadata": {},
   "source": [
    "## 練習プログラム5 モジュールから読み込んだ関数に別名を付けて使う (8点)\n",
    "- 関数を別名で読み込み、結果を出力してみましょう。題材は何でも良いです\n",
    "- 使用したら、プログラムの結果を出力してみましょう"
   ]
  },
  {
   "cell_type": "code",
   "execution_count": null,
   "metadata": {},
   "outputs": [],
   "source": [
    "\n",
    "\n"
   ]
  },
  {
   "cell_type": "code",
   "execution_count": null,
   "metadata": {},
   "outputs": [],
   "source": [
    "#@title 練習プログラム5 送信ボタン表示（以下のセルを「▶ 実行」して下さい。） { display-mode: \"form\" }\n",
    "#@markdown メールアドレスを取得して、送信ボタンを押してください（中のプログラムは絶対に修正しないでください）\n",
    "display(create_submit_button(problem_number=5))"
   ]
  }
 ],
 "metadata": {
  "colab": {
   "authorship_tag": "ABX9TyMOtB7OiTVLb+yu2KoVwjto",
   "include_colab_link": true,
   "provenance": []
  },
  "kernelspec": {
   "display_name": "25_programing1_dev",
   "language": "python",
   "name": "25_programing1_dev"
  },
  "language_info": {
   "codemirror_mode": {
    "name": "ipython",
    "version": 3
   },
   "file_extension": ".py",
   "mimetype": "text/x-python",
   "name": "python",
   "nbconvert_exporter": "python",
   "pygments_lexer": "ipython3",
   "version": "3.13.7"
  }
 },
 "nbformat": 4,
 "nbformat_minor": 4
}
