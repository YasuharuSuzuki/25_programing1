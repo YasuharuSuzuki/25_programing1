{
 "cells": [
  {
   "cell_type": "markdown",
   "metadata": {
    "colab_type": "text",
    "id": "view-in-github"
   },
   "source": [
    "<a href=\"https://colab.research.google.com/github/YasuharuSuzuki/25_programing1/blob/main/\" target=\"_parent\"><img src=\"https://colab.research.google.com/assets/colab-badge.svg\" alt=\"Open In Colab\"/></a>"
   ]
  },
  {
   "cell_type": "markdown",
   "metadata": {},
   "source": [
    "# Section 4-3 文字列のメソッド\n",
    "\n",
    "## 🔹 オブジェクトとメソッド\n",
    "\n",
    "- Pythonでは、 **文字列（str）** は「オブジェクト」として扱われます。\n",
    "- オブジェクトとは、「データ」と「そのデータを操作する機能」をまとめたものです。  "
   ]
  },
  {
   "cell_type": "markdown",
   "metadata": {},
   "source": [
    "### オブジェクトとメソッドのイメージ図\n",
    "<img src=\"./class1.webp\">"
   ]
  },
  {
   "cell_type": "markdown",
   "metadata": {},
   "source": [
    "たとえば、文字列 \"Hello\" も「文字の集まり」というデータに、  \n",
    "**文字を数えたり、小文字にしたり、置き換えたりできる“機能”がくっついたひとつのもの（＝オブジェクト）** です。  "
   ]
  },
  {
   "cell_type": "markdown",
   "metadata": {},
   "source": [
    "### \"Hello\" 文字列オブジェクトのイメージ図\n",
    "<img src=\"./class2.webp\">"
   ]
  },
  {
   "cell_type": "markdown",
   "metadata": {},
   "source": [
    "### 参考サイト\n",
    "#### [参考サイト1【Python早見表】8.5. 文字列に対する操作](https://chokkan.github.io/python/08str.html#id6)\n",
    "#### [参考サイト2【Python入門】2-1.文字列とメソッド](https://utokyo-ipp.github.io/2/2-1.html#%E6%96%87%E5%AD%97%E5%88%97%E3%81%A8%E3%83%A1%E3%82%BD%E3%83%83%E3%83%89)"
   ]
  },
  {
   "cell_type": "markdown",
   "metadata": {},
   "source": [
    "## 文字列のメソッド\n",
    "\n",
    "|  メソッド  |  処理  | 使用例 |\n",
    "| :---- | :---- | :---- |\n",
    "| upper()  | 大文字に変換  | \"Apple iPhoneとGoogle Android\" → \"APPLE IPHONEとGOOGLE ANDROID\" |\n",
    "| lower()  | 小文字に変換  | \"Apple iPhoneとGoogle Android\" → \"apple iphoneとgoogle android\" |\n",
    "| capitalize()  | 文章の先頭を大文字に変換  | \"may the force be with you!\" → \"May the force be with you!\" |\n",
    "| title()  | 単語の先頭を大文字に変換  | \"may the force be with you!\" → \"May The Force Be With You!\" |\n",
    "| count()  | 文字列中に特定の文字列が含まれる個数を返す  | \"apple pie\".count(\"p\") → 3 |\n",
    "| find()  | 文字が見つかった最初の位置を返す  | \"apple pie\".count(\"e\") → 4 |\n",
    "| rfind()  | 文字を後ろから検索し、見つかった最初の位置を返す  | \"apple pie\".count(\"e\") → 8 |\n",
    "| replace()  | 文字列を置換する  | \"employee\".replace(\"e\",\"x\") → \"xmployxx\" |\n",
    "| strip()  | 文字列の前後にある空白と改行コードを取り除く  | \"   hello   \\n\".strip() → \"hello\" |\n",
    "| rstrip()  | 末尾にある特定文字を取り除く  | \"2, 3, 4,\\n\".strip() → \"2, 3, 4\" |\n",
    "| split()  | 文字列を区切り文字でリストに分割  | \"apple banana orange\".split() → [\"apple\",\"banana\",\"orange\"] |\n",
    "| format() | 文字列に値を埋め込む(format) | \"チューリップは{}と{}と{}でした。\".format(\"赤\",\"青\",\"黄色\") → 'チューリップは赤と青と黄色でした。' |\n",
    "| fstring | 文字列に値を埋め込む(fstring) | name=\"高橋\"; age=\"23\" f\"{name}選手、年齢{age}\" → '高橋選手、年齢23' |"
   ]
  },
  {
   "cell_type": "markdown",
   "metadata": {},
   "source": [
    "## サンプルプログラム6　大文字小文字の変換 / 文字のカウント"
   ]
  },
  {
   "cell_type": "markdown",
   "metadata": {},
   "source": [
    "### 大文字小文字を変換する\n",
    "- upper() メソッドで全ての英小文字を大文字に変換できます。"
   ]
  },
  {
   "cell_type": "code",
   "execution_count": null,
   "metadata": {},
   "outputs": [],
   "source": [
    "s = \"Yacchan Ika is a flavorful snack of squid with a sauce on the squid's feet, which can also be used as a snack for alcoholic beverages!\"\n",
    "\n",
    "# 大文字に変換する\n",
    "s.upper()"
   ]
  },
  {
   "cell_type": "markdown",
   "metadata": {},
   "source": [
    "- 反対に lower() メソッドで全ての英大文字を小文字に変換できます。"
   ]
  },
  {
   "cell_type": "code",
   "execution_count": null,
   "metadata": {},
   "outputs": [],
   "source": [
    "# 小文字に変換する\n",
    "s.lower()"
   ]
  },
  {
   "cell_type": "markdown",
   "metadata": {},
   "source": [
    "### １文字目を大文字にする\n",
    "- capitalize() を使うと、文章の1文字目を大文字に変換できます"
   ]
  },
  {
   "cell_type": "code",
   "execution_count": null,
   "metadata": {},
   "outputs": [],
   "source": [
    "s = \"flavorful snack of squid!\"\n",
    "s.capitalize()"
   ]
  },
  {
   "cell_type": "markdown",
   "metadata": {},
   "source": [
    "- title() を使うと、単語の1文字目を大文字に変換できます"
   ]
  },
  {
   "cell_type": "code",
   "execution_count": null,
   "metadata": {},
   "outputs": [],
   "source": [
    "s.title()"
   ]
  },
  {
   "cell_type": "markdown",
   "metadata": {},
   "source": [
    "### 文字列中に特定の文字列が含まれる個数を返す\n",
    "- count() を使うと文字列の個数を返します\n",
    "- 文字列に含まれる `p` の文字を数える"
   ]
  },
  {
   "cell_type": "code",
   "execution_count": null,
   "metadata": {},
   "outputs": [],
   "source": [
    "s = \"Password付きZIPファイルを送ります、Passwordを送ります、Angoka（暗号化）、Protocol（プロトコル）\"\n",
    "\n",
    "# P の数をカウントする\n",
    "s.count(\"P\")"
   ]
  },
  {
   "cell_type": "markdown",
   "metadata": {},
   "source": [
    "- 文字列に含まれる `ます` の文字を数える"
   ]
  },
  {
   "cell_type": "code",
   "execution_count": null,
   "metadata": {},
   "outputs": [],
   "source": [
    "s.count(\"ます\")"
   ]
  },
  {
   "cell_type": "markdown",
   "metadata": {},
   "source": [
    "- count()は第2引数と、第3引数で範囲を指定することも出来ます\n",
    "- 先頭から20文字目までに含まれる `P` の個数"
   ]
  },
  {
   "cell_type": "code",
   "execution_count": null,
   "metadata": {},
   "outputs": [],
   "source": [
    "s.count(\"P\", 0, 20)"
   ]
  },
  {
   "cell_type": "markdown",
   "metadata": {},
   "source": [
    "---"
   ]
  },
  {
   "cell_type": "markdown",
   "metadata": {},
   "source": [
    "## 練習プログラム6　大文字小文字の変換 (8点)\n",
    "- 英語を含む文字列を定義して、大文字・小文字を変換するメソッド（upper(),lower(),capitalize(),title()）のいずれかを使って変換し、出力してみましょう\n",
    "- 題材は何でも良いです"
   ]
  },
  {
   "cell_type": "code",
   "execution_count": null,
   "metadata": {},
   "outputs": [],
   "source": [
    "\n",
    "\n"
   ]
  },
  {
   "cell_type": "code",
   "execution_count": null,
   "metadata": {},
   "outputs": [],
   "source": [
    "#@title 送信処理用共通プログラム（以下のセルを「▶ 実行」して下さい。） { display-mode: \"form\" }\n",
    "#@markdown 解答の送信に必要です。（中身は絶対に修正しないでください）\n",
    "\n",
    "# import os\n",
    "# os.makedirs(\".client/python\", exist_ok=True)  # 隠しフォルダを作成\n",
    "# !wget -q https://raw.githubusercontent.com/YasuharuSuzuki/25_programing1/feature/add_class01/91_notebook_client/src/setup.sh -O .client/setup.sh   # 外部コードをダウンロードして隠しフォルダに配置\n",
    "# !chmod +x ./.client/setup.sh\n",
    "!bash ./.client/setup.sh # 実行\n",
    "\n",
    "# モジュールの初期化\n",
    "exec(open('.client/client_setup.py').read())\n",
    "\n",
    "# ノートブック固有の設定\n",
    "NOTEBOOK_PATH = \"04_組み込み関数/03_文字列のメソッド1.ipynb\"\n",
    "set_notebook_config(NOTEBOOK_PATH)"
   ]
  },
  {
   "cell_type": "code",
   "execution_count": null,
   "metadata": {},
   "outputs": [],
   "source": [
    "#@title 練習プログラム6 送信ボタン表示（以下のセルを「▶ 実行」して下さい。） { display-mode: \"form\" }\n",
    "#@markdown メールアドレスを取得して、送信ボタンを押してください（中のプログラムは絶対に修正しないでください）\n",
    "display(create_submit_button(problem_number=6))"
   ]
  },
  {
   "cell_type": "markdown",
   "metadata": {},
   "source": [
    "---\n",
    "---\n",
    "---\n",
    "---\n",
    "---"
   ]
  },
  {
   "cell_type": "markdown",
   "metadata": {},
   "source": [
    "## サンプルプログラム7 文字が見つかった位置を返す\n",
    "- find() を使うと文字が見つかった位置を返します"
   ]
  },
  {
   "cell_type": "code",
   "execution_count": null,
   "metadata": {},
   "outputs": [],
   "source": [
    "s = \"Password付きZIPファイルを送ります、Passwordを送ります、Angoka（暗号化）、Protocol（プロトコル）\"\n",
    "s.find(\"ます\")"
   ]
  },
  {
   "cell_type": "markdown",
   "metadata": {},
   "source": [
    "- 0 スタートの位置を整数値で返します。11番目は 10 を返します。"
   ]
  },
  {
   "cell_type": "code",
   "execution_count": null,
   "metadata": {},
   "outputs": [],
   "source": [
    "s.find(\"x\")"
   ]
  },
  {
   "cell_type": "markdown",
   "metadata": {},
   "source": [
    "- 見つからなかった時は -1 を返します。"
   ]
  },
  {
   "cell_type": "markdown",
   "metadata": {},
   "source": [
    "### 文字を後ろから検索する\n",
    "- find() は先頭から検索しますが、rfind()を使うと後ろから検索します"
   ]
  },
  {
   "cell_type": "code",
   "execution_count": null,
   "metadata": {},
   "outputs": [],
   "source": [
    "s.rfind(\"ます\")"
   ]
  },
  {
   "cell_type": "markdown",
   "metadata": {},
   "source": [
    "---"
   ]
  },
  {
   "cell_type": "markdown",
   "metadata": {},
   "source": [
    "## 練習プログラム7 文字が見つかった位置を返す (8点)\n",
    "- 文字を検索するメソッド（find(),rfind()）のいずれかを使って検索し、見つかった位置を出力してみましょう\n",
    "- 題材は何でも良いです"
   ]
  },
  {
   "cell_type": "code",
   "execution_count": null,
   "metadata": {},
   "outputs": [],
   "source": [
    "\n",
    "\n"
   ]
  },
  {
   "cell_type": "code",
   "execution_count": null,
   "metadata": {},
   "outputs": [],
   "source": [
    "#@title 練習プログラム7 送信ボタン表示（以下のセルを「▶ 実行」して下さい。） { display-mode: \"form\" }\n",
    "#@markdown メールアドレスを取得して、送信ボタンを押してください（中のプログラムは絶対に修正しないでください）\n",
    "display(create_submit_button(problem_number=7))"
   ]
  },
  {
   "cell_type": "markdown",
   "metadata": {},
   "source": [
    "---\n",
    "---\n",
    "---\n",
    "---\n",
    "---"
   ]
  },
  {
   "cell_type": "markdown",
   "metadata": {},
   "source": [
    "## サンプルプログラム8 文字列を置換する\n",
    "- replace() を使うと文字列を変換できます"
   ]
  },
  {
   "cell_type": "code",
   "execution_count": null,
   "metadata": {},
   "outputs": [],
   "source": [
    "s = \"Password付きZIPファイルを送ります、Passwordを送ります、Angoka（暗号化）、Protocol（プロトコル）\"\n",
    "\n",
    "# 大文字の \"P\" を小文字の \"p\" に置換\n",
    "s.replace(\"P\",\"p\")"
   ]
  },
  {
   "cell_type": "code",
   "execution_count": null,
   "metadata": {},
   "outputs": [],
   "source": [
    "# 英語の \"Password\" をカタカナの \"パスワード\" に置換\n",
    "s.replace(\"Password\",\"パスワード\")"
   ]
  },
  {
   "cell_type": "markdown",
   "metadata": {},
   "source": [
    "---"
   ]
  },
  {
   "cell_type": "markdown",
   "metadata": {},
   "source": [
    "## 練習プログラム8 文字列を置換する (8点)\n",
    "- 文字を置換するメソッド（replace()）を使って置換し、置換後の文字列を出力してみましょう\n",
    "- 題材は何でも良いです"
   ]
  },
  {
   "cell_type": "code",
   "execution_count": null,
   "metadata": {},
   "outputs": [],
   "source": [
    "\n",
    "\n"
   ]
  },
  {
   "cell_type": "code",
   "execution_count": null,
   "metadata": {},
   "outputs": [],
   "source": [
    "#@title 練習プログラム8 送信ボタン表示（以下のセルを「▶ 実行」して下さい。） { display-mode: \"form\" }\n",
    "#@markdown メールアドレスを取得して、送信ボタンを押してください（中のプログラムは絶対に修正しないでください）\n",
    "display(create_submit_button(problem_number=8))"
   ]
  }
 ],
 "metadata": {
  "colab": {
   "authorship_tag": "ABX9TyMOtB7OiTVLb+yu2KoVwjto",
   "include_colab_link": true,
   "provenance": []
  },
  "kernelspec": {
   "display_name": "25_programing1_dev",
   "language": "python",
   "name": "25_programing1_dev"
  },
  "language_info": {
   "codemirror_mode": {
    "name": "ipython",
    "version": 3
   },
   "file_extension": ".py",
   "mimetype": "text/x-python",
   "name": "python",
   "nbconvert_exporter": "python",
   "pygments_lexer": "ipython3",
   "version": "3.13.7"
  }
 },
 "nbformat": 4,
 "nbformat_minor": 4
}
